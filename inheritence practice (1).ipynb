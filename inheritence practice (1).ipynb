{
 "cells": [
  {
   "cell_type": "code",
   "execution_count": null,
   "id": "4d68860a",
   "metadata": {},
   "outputs": [],
   "source": [
    "#fa24_bbd-069\n",
    "# NOOR UL AIN ZAHID"
   ]
  },
  {
   "cell_type": "code",
   "execution_count": 3,
   "id": "c7c1b730",
   "metadata": {},
   "outputs": [
    {
     "name": "stdout",
     "output_type": "stream",
     "text": [
      "Circle Area: 314.0\n",
      "Rectangle Area: 12\n",
      "Triangle Area: 15.0\n"
     ]
    }
   ],
   "source": [
    "# 9.\n",
    "class shape:\n",
    "    def area(self):\n",
    "        pass\n",
    "class circle(shape):\n",
    "    def __init__(self,radius):\n",
    "        self.radius = radius\n",
    "    def area(self):\n",
    "        return 3.14*self.radius**2\n",
    "class rectangle(shape):\n",
    "    def __init__(self,width,height):\n",
    "        self.width=width\n",
    "        self.height=height\n",
    "    def area(self):\n",
    "        return self.width*self.height\n",
    "class triangle(shape):\n",
    "    def __init__(self,base,height):\n",
    "        self.base=base\n",
    "        self.height=height\n",
    "    def area(self):\n",
    "        return 0.5*self.base*self.height\n",
    "# Example\n",
    "Circle=circle(10)\n",
    "print(\"Circle Area:\",Circle.area())\n",
    "Rectangle=rectangle(3,4)\n",
    "print(\"Rectangle Area:\",Rectangle.area())\n",
    "Triangle=triangle(5,6)\n",
    "print(\"Triangle Area:\",Triangle.area())"
   ]
  },
  {
   "cell_type": "code",
   "execution_count": 4,
   "id": "198ca86a",
   "metadata": {},
   "outputs": [
    {
     "name": "stdout",
     "output_type": "stream",
     "text": [
      "Buddy makes a sound: Woof\n",
      "Whiskers makes a sound: Meow\n",
      "Bessie makes a sound: Moo\n"
     ]
    }
   ],
   "source": [
    "# 10.\n",
    "class Animal:\n",
    "    def __init__(self, name, sound):\n",
    "        self.name = name\n",
    "        self.sound = sound\n",
    "\n",
    "    def make_sound(self):\n",
    "        return f\"{self.name} makes a sound: {self.sound}\"\n",
    "\n",
    "\n",
    "# Subclass for Dog\n",
    "class Dog(Animal):\n",
    "    def __init__(self, name):\n",
    "        super().__init__(name, \"Woof\")\n",
    "\n",
    "\n",
    "# Subclass for Cat\n",
    "class Cat(Animal):\n",
    "    def __init__(self, name):\n",
    "        super().__init__(name, \"Meow\")\n",
    "\n",
    "\n",
    "# Subclass for Cow\n",
    "class Cow(Animal):\n",
    "    def __init__(self, name):\n",
    "        super().__init__(name, \"Moo\")\n",
    "\n",
    "\n",
    "# Example Usage\n",
    "dog = Dog(\"Buddy\")\n",
    "print(dog.make_sound())  # Output: Buddy makes a sound: Woof\n",
    "\n",
    "cat = Cat(\"Whiskers\")\n",
    "print(cat.make_sound())  # Output: Whiskers makes a sound: Meow\n",
    "\n",
    "cow = Cow(\"Bessie\")\n",
    "print(cow.make_sound())  # Output: Bessie makes a sound: Moo\n"
   ]
  },
  {
   "cell_type": "code",
   "execution_count": null,
   "id": "d46db3ca",
   "metadata": {},
   "outputs": [],
   "source": []
  }
 ],
 "metadata": {
  "kernelspec": {
   "display_name": "Python 3 (ipykernel)",
   "language": "python",
   "name": "python3"
  },
  "language_info": {
   "codemirror_mode": {
    "name": "ipython",
    "version": 3
   },
   "file_extension": ".py",
   "mimetype": "text/x-python",
   "name": "python",
   "nbconvert_exporter": "python",
   "pygments_lexer": "ipython3",
   "version": "3.11.5"
  }
 },
 "nbformat": 4,
 "nbformat_minor": 5
}
